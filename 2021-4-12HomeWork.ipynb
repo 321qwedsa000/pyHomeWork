{
 "metadata": {
  "language_info": {
   "codemirror_mode": {
    "name": "ipython",
    "version": 3
   },
   "file_extension": ".py",
   "mimetype": "text/x-python",
   "name": "python",
   "nbconvert_exporter": "python",
   "pygments_lexer": "ipython3",
   "version": "3.7.10-final"
  },
  "orig_nbformat": 2,
  "kernelspec": {
   "name": "python3",
   "display_name": "Python 3.7.10 64-bit ('Env': conda)",
   "metadata": {
    "interpreter": {
     "hash": "121de3e82bba2259a4dff46c9e63eaba7f4f2cfc99f65dd46fdba303b84b945c"
    }
   }
  }
 },
 "nbformat": 4,
 "nbformat_minor": 2,
 "cells": [
  {
   "cell_type": "code",
   "execution_count": 1,
   "metadata": {},
   "outputs": [
    {
     "output_type": "stream",
     "name": "stdout",
     "text": [
      "1\n1\n2\n3\n5\n8\n"
     ]
    }
   ],
   "source": [
    "a,b=0,1\n",
    "while b < 10:\n",
    "    print(b)\n",
    "    a,b=b,a+b\n"
   ]
  },
  {
   "cell_type": "code",
   "execution_count": 2,
   "metadata": {},
   "outputs": [
    {
     "output_type": "stream",
     "name": "stdout",
     "text": [
      "1,1,2,3,5,8,13,21,34,55,89,144,233,377,610,987,"
     ]
    }
   ],
   "source": [
    "a,b=0,1\n",
    "while b < 1000:\n",
    "    print(b,end=',')\n",
    "    a,b=b,a+b"
   ]
  },
  {
   "cell_type": "code",
   "execution_count": 3,
   "metadata": {},
   "outputs": [
    {
     "output_type": "stream",
     "name": "stdout",
     "text": [
      "1 - if 運算式條件為 true\n100\nGood bye!\n"
     ]
    }
   ],
   "source": [
    "var1 = 100\n",
    "if var1:\n",
    "    print(\"1 - if 運算式條件為 true\")\n",
    "    print(var1)\n",
    "var2 = 0\n",
    "if var2:\n",
    "    print(\"2 - if 運算式條件為 true\")\n",
    "    print(var2)\n",
    "print(\"Good bye!\")"
   ]
  },
  {
   "cell_type": "code",
   "execution_count": 6,
   "metadata": {},
   "outputs": [
    {
     "output_type": "stream",
     "name": "stdout",
     "text": [
      "\n相當於37的人\n"
     ]
    },
    {
     "output_type": "execute_result",
     "data": {
      "text/plain": [
       "'5'"
      ]
     },
     "metadata": {},
     "execution_count": 6
    }
   ],
   "source": [
    "age = int(input(\"請輸入你家狗狗的年齡︰\"))\n",
    "print(\"\")\n",
    "if age <= 0:\n",
    "    print(\"你是在逗我吧!\")\n",
    "elif age == 1:\n",
    "    print(\"相當於14歲的人\")\n",
    "elif age == 2:\n",
    "    print(\"相當於22歲的人\")\n",
    "else:\n",
    "    human = 22 + (age-2)*5\n",
    "    print(f\"相當於{human}歲的人\")\n",
    "###退出提示\n",
    "input(\"點選 enter 健退出\")"
   ]
  },
  {
   "cell_type": "code",
   "execution_count": 7,
   "metadata": {},
   "outputs": [
    {
     "output_type": "stream",
     "name": "stdout",
     "text": [
      "數值猜謎遊戲!\n",
      "恭喜你，你猜對了！\n"
     ]
    }
   ],
   "source": [
    "number = 7\n",
    "guess = -1\n",
    "print(\"數值猜謎遊戲!\")\n",
    "while guess != number:\n",
    "    guess = int(input(\"請輸竹你猜的數值︰\"))\n",
    "    if guess == number:\n",
    "        print(\"恭喜你，你猜對了！\")\n",
    "    elif guess < number:\n",
    "        print(\"猜的數值小了…\")\n",
    "    elif guess > number:\n",
    "        print(\"猜的數值大了…\")"
   ]
  },
  {
   "cell_type": "code",
   "execution_count": 8,
   "metadata": {},
   "outputs": [
    {
     "output_type": "stream",
     "name": "stdout",
     "text": [
      "你輸入的數值不能整除2和3\n"
     ]
    }
   ],
   "source": [
    "num = int(input(\"輸入一個數值︰\"))\n",
    "if num % 2 == 0:\n",
    "    if num % 3 == 0:\n",
    "        print(\"你輸入的數值可以整除2和3\")\n",
    "    else:\n",
    "        print(\"你輸入的數值可以整除2，但不能除3\")\n",
    "else:\n",
    "    if num % 3 == 0:\n",
    "        print(\"你輸入數值可以整除3，但不能整除2\")\n",
    "    else:\n",
    "        print(\"你輸入的數值不能整除2和3\")\n"
   ]
  },
  {
   "cell_type": "code",
   "execution_count": 10,
   "metadata": {},
   "outputs": [
    {
     "output_type": "stream",
     "name": "stdout",
     "text": [
      "1 到 100之和為︰5050\n"
     ]
    }
   ],
   "source": [
    "n = 100\n",
    "sum = 0\n",
    "counter = 1\n",
    "while counter <= n:\n",
    "    sum += counter\n",
    "    counter += 1\n",
    "print(f\"1 到 {n}之和為︰{sum}\")"
   ]
  },
  {
   "cell_type": "code",
   "execution_count": 11,
   "metadata": {},
   "outputs": [
    {
     "output_type": "stream",
     "name": "stdout",
     "text": [
      "1 到 120之和為︰7260\n"
     ]
    }
   ],
   "source": [
    "n = 120\n",
    "sum = 0\n",
    "counter = 1\n",
    "while counter <= n:\n",
    "    sum += counter\n",
    "    counter += 1\n",
    "print(f\"1 到 {n}之和為︰{sum}\")"
   ]
  },
  {
   "cell_type": "code",
   "execution_count": 14,
   "metadata": {},
   "outputs": [
    {
     "output_type": "stream",
     "name": "stdout",
     "text": [
      "迴圈資料 Baidu\n迴圈資料 Google\n線上程式語言教學練習！\n完成迴圈\n"
     ]
    }
   ],
   "source": [
    "sites=[\"Baidu\",\"Google\",\"Twcode01\",\"Taobao\"]\n",
    "for site in sites:\n",
    "    if site == \"Twcode01\":\n",
    "        print(\"線上程式語言教學練習！\")\n",
    "        break\n",
    "    print(f\"迴圈資料 {site}\")\n",
    "else:\n",
    "    print(\"沒有迴圈資料！\")\n",
    "print(\"完成迴圈\")"
   ]
  },
  {
   "cell_type": "code",
   "execution_count": null,
   "metadata": {},
   "outputs": [],
   "source": []
  }
 ]
}