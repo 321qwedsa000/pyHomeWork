{
 "metadata": {
  "language_info": {
   "codemirror_mode": {
    "name": "ipython",
    "version": 3
   },
   "file_extension": ".py",
   "mimetype": "text/x-python",
   "name": "python",
   "nbconvert_exporter": "python",
   "pygments_lexer": "ipython3",
   "version": "3.7.10-final"
  },
  "orig_nbformat": 2,
  "kernelspec": {
   "name": "python3",
   "display_name": "Python 3",
   "language": "python"
  }
 },
 "nbformat": 4,
 "nbformat_minor": 2,
 "cells": [
  {
   "cell_type": "code",
   "execution_count": 9,
   "metadata": {},
   "outputs": [
    {
     "output_type": "stream",
     "name": "stdout",
     "text": [
      "Hello, Python!I  I am 8+9\n"
     ]
    }
   ],
   "source": [
    "#!/usr/bin/python3\n",
    " \n",
    "# 第一個註解\n",
    "print (\"Hello, Python!I  I am 8+9\") # 第二個註解"
   ]
  },
  {
   "cell_type": "code",
   "execution_count": 6,
   "metadata": {},
   "outputs": [
    {
     "output_type": "stream",
     "name": "stdout",
     "text": [
      "a + b 輸出結果： HelloPython\na * 2 輸出結果： HelloHello\na[1] 輸出結果： e\na[1:4] 輸出結果： ell\nH 在變數 a 中\nM 不在變數 a 中\n\\n\n\\n\n"
     ]
    }
   ],
   "source": [
    "#!/usr/bin/python3\n",
    " \n",
    "a = \"Hello\"\n",
    "b = \"Python\"\n",
    " \n",
    "print(\"a + b 輸出結果：\", a + b)\n",
    "print(\"a * 2 輸出結果：\", a * 2)\n",
    "print(\"a[1] 輸出結果：\", a[1])\n",
    "print(\"a[1:4] 輸出結果：\", a[1:4])\n",
    " \n",
    "if( \"H\" in a) :\n",
    "    print(\"H 在變數 a 中\")\n",
    "else :\n",
    "    print(\"H 不在變數 a 中\")\n",
    " \n",
    "if( \"M\" not in a) :\n",
    "    print(\"M 不在變數 a 中\")\n",
    "else :\n",
    "    print(\"M 在變數 a 中\")\n",
    " \n",
    "print (r'\\n')\n",
    "print (R'\\n')"
   ]
  },
  {
   "cell_type": "code",
   "execution_count": 7,
   "metadata": {},
   "outputs": [
    {
     "output_type": "stream",
     "name": "stdout",
     "text": [
      "這是一個多行字串的例項\n多行字串可以使用製表符\nTAB ( \t )。\n也可以使用換行符 [ \n ]。\n\n"
     ]
    }
   ],
   "source": [
    "#!/usr/bin/python3\n",
    " \n",
    "para_str = \"\"\"這是一個多行字串的例項\n",
    "多行字串可以使用製表符\n",
    "TAB ( \\t )。\n",
    "也可以使用換行符 [ \\n ]。\n",
    "\"\"\"\n",
    "print (para_str)"
   ]
  }
 ]
}